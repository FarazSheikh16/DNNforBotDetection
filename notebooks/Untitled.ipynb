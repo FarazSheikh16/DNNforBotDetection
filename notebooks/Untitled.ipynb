{
 "cells": [
  {
   "cell_type": "code",
   "execution_count": 1,
   "id": "22eb81b0",
   "metadata": {},
   "outputs": [],
   "source": [
    "from keras.models import load_model\n",
    "import pandas as pd\n",
    "import numpy as np\n",
    "import getaccount"
   ]
  },
  {
   "cell_type": "code",
   "execution_count": 2,
   "id": "eba507a1",
   "metadata": {},
   "outputs": [],
   "source": [
    "model = load_model('D:/DNNforBotDetection/DNNforBotDetection/models/model.h5')"
   ]
  },
  {
   "cell_type": "code",
   "execution_count": 18,
   "id": "4f7396ad",
   "metadata": {},
   "outputs": [
    {
     "name": "stderr",
     "output_type": "stream",
     "text": [
      "2023-05-30 09:38:03,262 - twitter_scraper_selenium.profile_details - INFO - Data Successfully Saved to D:\\DNNforBotDetection\\DNNforBotDetection\\notebooks\\twitter_api_data.json\n"
     ]
    }
   ],
   "source": [
    "df = getaccount.getUserData('https://twitter.com/AngelaW61771234')\n"
   ]
  },
  {
   "cell_type": "code",
   "execution_count": 14,
   "id": "c2f956af",
   "metadata": {},
   "outputs": [],
   "source": [
    "df = df.drop(['username', 'is_protected'], axis=1)"
   ]
  },
  {
   "cell_type": "code",
   "execution_count": 15,
   "id": "f09d4238",
   "metadata": {},
   "outputs": [
    {
     "data": {
      "text/html": [
       "<div>\n",
       "<style scoped>\n",
       "    .dataframe tbody tr th:only-of-type {\n",
       "        vertical-align: middle;\n",
       "    }\n",
       "\n",
       "    .dataframe tbody tr th {\n",
       "        vertical-align: top;\n",
       "    }\n",
       "\n",
       "    .dataframe thead th {\n",
       "        text-align: right;\n",
       "    }\n",
       "</style>\n",
       "<table border=\"1\" class=\"dataframe\">\n",
       "  <thead>\n",
       "    <tr style=\"text-align: right;\">\n",
       "      <th></th>\n",
       "      <th>age</th>\n",
       "      <th>has_location</th>\n",
       "      <th>is_verified</th>\n",
       "      <th>total_tweets</th>\n",
       "      <th>total_following</th>\n",
       "      <th>total_followers</th>\n",
       "      <th>total_likes</th>\n",
       "      <th>has_avatar</th>\n",
       "      <th>has_background</th>\n",
       "      <th>profile_modified</th>\n",
       "    </tr>\n",
       "  </thead>\n",
       "  <tbody>\n",
       "    <tr>\n",
       "      <th>0</th>\n",
       "      <td>750</td>\n",
       "      <td>1</td>\n",
       "      <td>1</td>\n",
       "      <td>0</td>\n",
       "      <td>9</td>\n",
       "      <td>0</td>\n",
       "      <td>2</td>\n",
       "      <td>1</td>\n",
       "      <td>1</td>\n",
       "      <td>1</td>\n",
       "    </tr>\n",
       "  </tbody>\n",
       "</table>\n",
       "</div>"
      ],
      "text/plain": [
       "   age  has_location  is_verified  total_tweets  total_following  \\\n",
       "0  750             1            1             0                9   \n",
       "\n",
       "   total_followers  total_likes  has_avatar  has_background  profile_modified  \n",
       "0                0            2           1               1                 1  "
      ]
     },
     "execution_count": 15,
     "metadata": {},
     "output_type": "execute_result"
    }
   ],
   "source": [
    "df"
   ]
  },
  {
   "cell_type": "code",
   "execution_count": 16,
   "id": "6fa17cee",
   "metadata": {},
   "outputs": [
    {
     "name": "stdout",
     "output_type": "stream",
     "text": [
      "1/1 [==============================] - 0s 13ms/step\n"
     ]
    }
   ],
   "source": [
    "y_pred_prob = model.predict(df)\n",
    "y_pred = (y_pred_prob >= 0.5).astype(int)\n",
    "y_scores = y_pred_prob.ravel()"
   ]
  },
  {
   "cell_type": "code",
   "execution_count": 17,
   "id": "007a2b33",
   "metadata": {},
   "outputs": [
    {
     "data": {
      "text/plain": [
       "array([[0.]], dtype=float32)"
      ]
     },
     "execution_count": 17,
     "metadata": {},
     "output_type": "execute_result"
    }
   ],
   "source": [
    "y_pred_prob"
   ]
  },
  {
   "cell_type": "code",
   "execution_count": null,
   "id": "ce213f58",
   "metadata": {},
   "outputs": [],
   "source": []
  }
 ],
 "metadata": {
  "kernelspec": {
   "display_name": "Python 3 (ipykernel)",
   "language": "python",
   "name": "python3"
  },
  "language_info": {
   "codemirror_mode": {
    "name": "ipython",
    "version": 3
   },
   "file_extension": ".py",
   "mimetype": "text/x-python",
   "name": "python",
   "nbconvert_exporter": "python",
   "pygments_lexer": "ipython3",
   "version": "3.9.16"
  }
 },
 "nbformat": 4,
 "nbformat_minor": 5
}
