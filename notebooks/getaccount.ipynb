{
 "cells": [
  {
   "cell_type": "code",
   "execution_count": 66,
   "id": "0f00f912",
   "metadata": {},
   "outputs": [],
   "source": [
    "from twitter_scraper_selenium import get_profile_details\n",
    "import pandas as pd\n",
    "import json\n",
    "from datetime import datetime\n",
    "import os"
   ]
  },
  {
   "cell_type": "code",
   "execution_count": null,
   "id": "a5ba1584",
   "metadata": {},
   "outputs": [],
   "source": [
    "def getUserData(string):\n",
    "    twitter_username = str.split('/')[-1]\n",
    "    filename = \"twitter_api_data\"\n",
    "    get_profile_details(twitter_username=twitter_username, filename=filename)\n",
    "\n",
    "\n",
    "    \n",
    "    with open('twitter_api_data.json', 'r') as file:\n",
    "    json_data = file.read()\n",
    "    json_list = json.loads(json_data)\n",
    "    df = pd.json_normalize(json_list)\n",
    "    \n",
    "    requiredColumns = ['screen_name', 'created_at', 'location', 'verified', 'statuses_count', 'friends_count',\n",
    "                   'followers_count', 'favourites_count', 'default_profile_image', 'profile_use_background_image',\n",
    "                   'protected', 'default_profile']\n",
    "\n",
    "    df = df[requiredColumns]\n",
    "    \n",
    "    current_datetime = datetime.now().strftime('%Y-%m-%d %H:%M:%S')\n",
    "    df.loc[:,'updated'] = current_datetime\n",
    "    \n",
    "    df['created_at'] = pd.to_datetime(df['created_at']).dt.tz_localize(None).dt.tz_localize('UTC')  # Convert to UTC timezone\n",
    "    df['updated'] = pd.to_datetime(df['updated']).dt.tz_localize(None).dt.tz_localize('UTC')  # Convert to UTC timezone\n",
    "    df['age'] = (df['updated'] - df['created_at']).dt.days  # Use dt.days to get the number of days\n",
    "    df['has_location'] = df['location'].notnull().astype(int)  # Convert boolean to integer\n",
    "    df['has_avatar'] = df['default_profile_image'].notnull().astype(int)\n",
    "    df['has_background'] =%run MyOtherNotebook.ipynb\n",
    "    df['profile_use_background_image'].notnull().astype(int)\n",
    "    df['is_verified'] = df['verified'].notnull().astype(int)\n",
    "    df['is_protected'] = df['protected'].notnull().astype(int)\n",
    "    df['profile_modified'] = df['default_profile'].notnull().astype(int)\n",
    "    df = df.rename(columns={\"screen_name\": \"username\", \"statuses_count\": \"total_tweets\", \"friends_count\": \"total_following\",\n",
    "                            \"followers_count\": \"total_followers\", \"favourites_count\": \"total_likes\"})\n",
    "    \n",
    "return df[['username', 'age', 'has_location', 'is_verified', 'total_tweets', 'total_following', 'total_followers',\n",
    "               'total_likes', 'has_avatar', 'has_background', 'is_protected', 'profile_modified']]"
   ]
  },
  {
   "cell_type": "code",
   "execution_count": 15,
   "id": "32a1df49",
   "metadata": {},
   "outputs": [],
   "source": [
    "with open('twitter_api_data.json', 'r') as file:\n",
    "    json_data = file.read()"
   ]
  },
  {
   "cell_type": "code",
   "execution_count": 20,
   "id": "3ef5c9a3",
   "metadata": {},
   "outputs": [
    {
     "data": {
      "text/plain": [
       "'{\"id\": 1391658115859427331, \"id_str\": \"1391658115859427331\", \"name\": \"Hassaan Ibrahim\", \"screen_name\": \"MHassaanIbrahim\", \"location\": \"\", \"profile_location\": null, \"description\": \"Computer Science | ML/AI | Web and app development\", \"url\": null, \"entities\": {\"description\": {\"urls\": []}}, \"protected\": false, \"followers_count\": 0, \"fast_followers_count\": 0, \"normal_followers_count\": 0, \"friends_count\": 9, \"listed_count\": 0, \"created_at\": \"Mon May 10 07:35:41 +0000 2021\", \"favourites_count\": 2, \"utc_offset\": null, \"time_zone\": null, \"geo_enabled\": false, \"verified\": false, \"statuses_count\": 0, \"media_count\": 0, \"lang\": null, \"contributors_enabled\": false, \"is_translator\": false, \"is_translation_enabled\": false, \"profile_background_color\": \"F5F8FA\", \"profile_background_image_url\": null, \"profile_background_image_url_https\": null, \"profile_background_tile\": false, \"profile_image_url\": \"http://abs.twimg.com/sticky/default_profile_images/default_profile_normal.png\", \"profile_image_url_https\": \"https://abs.twimg.com/sticky/default_profile_images/default_profile_normal.png\", \"profile_link_color\": \"1DA1F2\", \"profile_sidebar_border_color\": \"C0DEED\", \"profile_sidebar_fill_color\": \"DDEEF6\", \"profile_text_color\": \"333333\", \"profile_use_background_image\": true, \"has_extended_profile\": true, \"default_profile\": true, \"default_profile_image\": true, \"pinned_tweet_ids\": [], \"pinned_tweet_ids_str\": [], \"has_custom_timelines\": true, \"following\": null, \"follow_request_sent\": null, \"notifications\": null, \"advertiser_account_type\": \"none\", \"advertiser_account_service_levels\": [], \"business_profile_state\": \"none\", \"translator_type\": \"none\", \"withheld_in_countries\": [], \"require_some_consent\": false}'"
      ]
     },
     "execution_count": 20,
     "metadata": {},
     "output_type": "execute_result"
    }
   ],
   "source": [
    "json_data"
   ]
  },
  {
   "cell_type": "code",
   "execution_count": 54,
   "id": "f60114cd",
   "metadata": {},
   "outputs": [],
   "source": [
    "json_list = json.loads(json_data)\n",
    "df = pd.json_normalize(json_list)\n"
   ]
  },
  {
   "cell_type": "code",
   "execution_count": 55,
   "id": "2aa4fec4",
   "metadata": {
    "scrolled": true
   },
   "outputs": [
    {
     "data": {
      "text/plain": [
       "{'id': 1391658115859427331,\n",
       " 'id_str': '1391658115859427331',\n",
       " 'name': 'Hassaan Ibrahim',\n",
       " 'screen_name': 'MHassaanIbrahim',\n",
       " 'location': '',\n",
       " 'profile_location': None,\n",
       " 'description': 'Computer Science | ML/AI | Web and app development',\n",
       " 'url': None,\n",
       " 'entities': {'description': {'urls': []}},\n",
       " 'protected': False,\n",
       " 'followers_count': 0,\n",
       " 'fast_followers_count': 0,\n",
       " 'normal_followers_count': 0,\n",
       " 'friends_count': 9,\n",
       " 'listed_count': 0,\n",
       " 'created_at': 'Mon May 10 07:35:41 +0000 2021',\n",
       " 'favourites_count': 2,\n",
       " 'utc_offset': None,\n",
       " 'time_zone': None,\n",
       " 'geo_enabled': False,\n",
       " 'verified': False,\n",
       " 'statuses_count': 0,\n",
       " 'media_count': 0,\n",
       " 'lang': None,\n",
       " 'contributors_enabled': False,\n",
       " 'is_translator': False,\n",
       " 'is_translation_enabled': False,\n",
       " 'profile_background_color': 'F5F8FA',\n",
       " 'profile_background_image_url': None,\n",
       " 'profile_background_image_url_https': None,\n",
       " 'profile_background_tile': False,\n",
       " 'profile_image_url': 'http://abs.twimg.com/sticky/default_profile_images/default_profile_normal.png',\n",
       " 'profile_image_url_https': 'https://abs.twimg.com/sticky/default_profile_images/default_profile_normal.png',\n",
       " 'profile_link_color': '1DA1F2',\n",
       " 'profile_sidebar_border_color': 'C0DEED',\n",
       " 'profile_sidebar_fill_color': 'DDEEF6',\n",
       " 'profile_text_color': '333333',\n",
       " 'profile_use_background_image': True,\n",
       " 'has_extended_profile': True,\n",
       " 'default_profile': True,\n",
       " 'default_profile_image': True,\n",
       " 'pinned_tweet_ids': [],\n",
       " 'pinned_tweet_ids_str': [],\n",
       " 'has_custom_timelines': True,\n",
       " 'following': None,\n",
       " 'follow_request_sent': None,\n",
       " 'notifications': None,\n",
       " 'advertiser_account_type': 'none',\n",
       " 'advertiser_account_service_levels': [],\n",
       " 'business_profile_state': 'none',\n",
       " 'translator_type': 'none',\n",
       " 'withheld_in_countries': [],\n",
       " 'require_some_consent': False}"
      ]
     },
     "execution_count": 55,
     "metadata": {},
     "output_type": "execute_result"
    }
   ],
   "source": [
    "json_list"
   ]
  },
  {
   "cell_type": "code",
   "execution_count": 56,
   "id": "eb3401e1",
   "metadata": {},
   "outputs": [
    {
     "data": {
      "text/html": [
       "<div>\n",
       "<style scoped>\n",
       "    .dataframe tbody tr th:only-of-type {\n",
       "        vertical-align: middle;\n",
       "    }\n",
       "\n",
       "    .dataframe tbody tr th {\n",
       "        vertical-align: top;\n",
       "    }\n",
       "\n",
       "    .dataframe thead th {\n",
       "        text-align: right;\n",
       "    }\n",
       "</style>\n",
       "<table border=\"1\" class=\"dataframe\">\n",
       "  <thead>\n",
       "    <tr style=\"text-align: right;\">\n",
       "      <th></th>\n",
       "      <th>id</th>\n",
       "      <th>id_str</th>\n",
       "      <th>name</th>\n",
       "      <th>screen_name</th>\n",
       "      <th>location</th>\n",
       "      <th>profile_location</th>\n",
       "      <th>description</th>\n",
       "      <th>url</th>\n",
       "      <th>protected</th>\n",
       "      <th>followers_count</th>\n",
       "      <th>...</th>\n",
       "      <th>following</th>\n",
       "      <th>follow_request_sent</th>\n",
       "      <th>notifications</th>\n",
       "      <th>advertiser_account_type</th>\n",
       "      <th>advertiser_account_service_levels</th>\n",
       "      <th>business_profile_state</th>\n",
       "      <th>translator_type</th>\n",
       "      <th>withheld_in_countries</th>\n",
       "      <th>require_some_consent</th>\n",
       "      <th>entities.description.urls</th>\n",
       "    </tr>\n",
       "  </thead>\n",
       "  <tbody>\n",
       "    <tr>\n",
       "      <th>0</th>\n",
       "      <td>1391658115859427331</td>\n",
       "      <td>1391658115859427331</td>\n",
       "      <td>Hassaan Ibrahim</td>\n",
       "      <td>MHassaanIbrahim</td>\n",
       "      <td></td>\n",
       "      <td>None</td>\n",
       "      <td>Computer Science | ML/AI | Web and app develop...</td>\n",
       "      <td>None</td>\n",
       "      <td>False</td>\n",
       "      <td>0</td>\n",
       "      <td>...</td>\n",
       "      <td>None</td>\n",
       "      <td>None</td>\n",
       "      <td>None</td>\n",
       "      <td>none</td>\n",
       "      <td>[]</td>\n",
       "      <td>none</td>\n",
       "      <td>none</td>\n",
       "      <td>[]</td>\n",
       "      <td>False</td>\n",
       "      <td>[]</td>\n",
       "    </tr>\n",
       "  </tbody>\n",
       "</table>\n",
       "<p>1 rows × 53 columns</p>\n",
       "</div>"
      ],
      "text/plain": [
       "                    id               id_str             name      screen_name  \\\n",
       "0  1391658115859427331  1391658115859427331  Hassaan Ibrahim  MHassaanIbrahim   \n",
       "\n",
       "  location profile_location  \\\n",
       "0                      None   \n",
       "\n",
       "                                         description   url  protected  \\\n",
       "0  Computer Science | ML/AI | Web and app develop...  None      False   \n",
       "\n",
       "   followers_count  ...  following  follow_request_sent  notifications  \\\n",
       "0                0  ...       None                 None           None   \n",
       "\n",
       "   advertiser_account_type advertiser_account_service_levels  \\\n",
       "0                     none                                []   \n",
       "\n",
       "   business_profile_state translator_type withheld_in_countries  \\\n",
       "0                    none            none                    []   \n",
       "\n",
       "   require_some_consent  entities.description.urls  \n",
       "0                 False                         []  \n",
       "\n",
       "[1 rows x 53 columns]"
      ]
     },
     "execution_count": 56,
     "metadata": {},
     "output_type": "execute_result"
    }
   ],
   "source": [
    "df"
   ]
  },
  {
   "cell_type": "code",
   "execution_count": 57,
   "id": "494060ef",
   "metadata": {},
   "outputs": [],
   "source": [
    "requiredColumns = ['screen_name', 'created_at', 'location', 'verified', 'statuses_count', 'friends_count',\n",
    "                   'followers_count', 'favourites_count', 'default_profile_image', 'profile_use_background_image',\n",
    "                   'protected', 'default_profile']\n",
    "\n",
    "df = df[requiredColumns]"
   ]
  },
  {
   "cell_type": "code",
   "execution_count": 58,
   "id": "d2474132",
   "metadata": {},
   "outputs": [
    {
     "data": {
      "text/html": [
       "<div>\n",
       "<style scoped>\n",
       "    .dataframe tbody tr th:only-of-type {\n",
       "        vertical-align: middle;\n",
       "    }\n",
       "\n",
       "    .dataframe tbody tr th {\n",
       "        vertical-align: top;\n",
       "    }\n",
       "\n",
       "    .dataframe thead th {\n",
       "        text-align: right;\n",
       "    }\n",
       "</style>\n",
       "<table border=\"1\" class=\"dataframe\">\n",
       "  <thead>\n",
       "    <tr style=\"text-align: right;\">\n",
       "      <th></th>\n",
       "      <th>screen_name</th>\n",
       "      <th>created_at</th>\n",
       "      <th>location</th>\n",
       "      <th>verified</th>\n",
       "      <th>statuses_count</th>\n",
       "      <th>friends_count</th>\n",
       "      <th>followers_count</th>\n",
       "      <th>favourites_count</th>\n",
       "      <th>default_profile_image</th>\n",
       "      <th>profile_use_background_image</th>\n",
       "      <th>protected</th>\n",
       "      <th>default_profile</th>\n",
       "    </tr>\n",
       "  </thead>\n",
       "  <tbody>\n",
       "    <tr>\n",
       "      <th>0</th>\n",
       "      <td>MHassaanIbrahim</td>\n",
       "      <td>Mon May 10 07:35:41 +0000 2021</td>\n",
       "      <td></td>\n",
       "      <td>False</td>\n",
       "      <td>0</td>\n",
       "      <td>9</td>\n",
       "      <td>0</td>\n",
       "      <td>2</td>\n",
       "      <td>True</td>\n",
       "      <td>True</td>\n",
       "      <td>False</td>\n",
       "      <td>True</td>\n",
       "    </tr>\n",
       "  </tbody>\n",
       "</table>\n",
       "</div>"
      ],
      "text/plain": [
       "       screen_name                      created_at location  verified  \\\n",
       "0  MHassaanIbrahim  Mon May 10 07:35:41 +0000 2021              False   \n",
       "\n",
       "   statuses_count  friends_count  followers_count  favourites_count  \\\n",
       "0               0              9                0                 2   \n",
       "\n",
       "   default_profile_image  profile_use_background_image  protected  \\\n",
       "0                   True                          True      False   \n",
       "\n",
       "   default_profile  \n",
       "0             True  "
      ]
     },
     "execution_count": 58,
     "metadata": {},
     "output_type": "execute_result"
    }
   ],
   "source": [
    "df"
   ]
  },
  {
   "cell_type": "code",
   "execution_count": 59,
   "id": "d843487a",
   "metadata": {},
   "outputs": [],
   "source": [
    "current_datetime = datetime.now().strftime('%Y-%m-%d %H:%M:%S')\n"
   ]
  },
  {
   "cell_type": "code",
   "execution_count": 60,
   "id": "cf7b7fff",
   "metadata": {},
   "outputs": [
    {
     "name": "stderr",
     "output_type": "stream",
     "text": [
      "C:\\Users\\hassa\\AppData\\Local\\Temp\\ipykernel_12760\\1564317363.py:1: SettingWithCopyWarning: \n",
      "A value is trying to be set on a copy of a slice from a DataFrame.\n",
      "Try using .loc[row_indexer,col_indexer] = value instead\n",
      "\n",
      "See the caveats in the documentation: https://pandas.pydata.org/pandas-docs/stable/user_guide/indexing.html#returning-a-view-versus-a-copy\n",
      "  df.loc[:,'updated'] = current_datetime\n"
     ]
    }
   ],
   "source": [
    "df.loc[:,'updated'] = current_datetime"
   ]
  },
  {
   "cell_type": "code",
   "execution_count": 61,
   "id": "6ac28f25",
   "metadata": {},
   "outputs": [
    {
     "data": {
      "text/html": [
       "<div>\n",
       "<style scoped>\n",
       "    .dataframe tbody tr th:only-of-type {\n",
       "        vertical-align: middle;\n",
       "    }\n",
       "\n",
       "    .dataframe tbody tr th {\n",
       "        vertical-align: top;\n",
       "    }\n",
       "\n",
       "    .dataframe thead th {\n",
       "        text-align: right;\n",
       "    }\n",
       "</style>\n",
       "<table border=\"1\" class=\"dataframe\">\n",
       "  <thead>\n",
       "    <tr style=\"text-align: right;\">\n",
       "      <th></th>\n",
       "      <th>screen_name</th>\n",
       "      <th>created_at</th>\n",
       "      <th>location</th>\n",
       "      <th>verified</th>\n",
       "      <th>statuses_count</th>\n",
       "      <th>friends_count</th>\n",
       "      <th>followers_count</th>\n",
       "      <th>favourites_count</th>\n",
       "      <th>default_profile_image</th>\n",
       "      <th>profile_use_background_image</th>\n",
       "      <th>protected</th>\n",
       "      <th>default_profile</th>\n",
       "      <th>updated</th>\n",
       "    </tr>\n",
       "  </thead>\n",
       "  <tbody>\n",
       "    <tr>\n",
       "      <th>0</th>\n",
       "      <td>MHassaanIbrahim</td>\n",
       "      <td>Mon May 10 07:35:41 +0000 2021</td>\n",
       "      <td></td>\n",
       "      <td>False</td>\n",
       "      <td>0</td>\n",
       "      <td>9</td>\n",
       "      <td>0</td>\n",
       "      <td>2</td>\n",
       "      <td>True</td>\n",
       "      <td>True</td>\n",
       "      <td>False</td>\n",
       "      <td>True</td>\n",
       "      <td>2023-05-30 07:22:39</td>\n",
       "    </tr>\n",
       "  </tbody>\n",
       "</table>\n",
       "</div>"
      ],
      "text/plain": [
       "       screen_name                      created_at location  verified  \\\n",
       "0  MHassaanIbrahim  Mon May 10 07:35:41 +0000 2021              False   \n",
       "\n",
       "   statuses_count  friends_count  followers_count  favourites_count  \\\n",
       "0               0              9                0                 2   \n",
       "\n",
       "   default_profile_image  profile_use_background_image  protected  \\\n",
       "0                   True                          True      False   \n",
       "\n",
       "   default_profile              updated  \n",
       "0             True  2023-05-30 07:22:39  "
      ]
     },
     "execution_count": 61,
     "metadata": {},
     "output_type": "execute_result"
    }
   ],
   "source": [
    "df"
   ]
  },
  {
   "cell_type": "code",
   "execution_count": 62,
   "id": "a027514d",
   "metadata": {},
   "outputs": [],
   "source": []
  },
  {
   "cell_type": "code",
   "execution_count": 64,
   "id": "acbb482d",
   "metadata": {},
   "outputs": [
    {
     "name": "stderr",
     "output_type": "stream",
     "text": [
      "C:\\Users\\hassa\\AppData\\Local\\Temp\\ipykernel_12760\\4044112271.py:2: SettingWithCopyWarning: \n",
      "A value is trying to be set on a copy of a slice from a DataFrame.\n",
      "Try using .loc[row_indexer,col_indexer] = value instead\n",
      "\n",
      "See the caveats in the documentation: https://pandas.pydata.org/pandas-docs/stable/user_guide/indexing.html#returning-a-view-versus-a-copy\n",
      "  df['created_at'] = pd.to_datetime(df['created_at']).dt.tz_localize(None).dt.tz_localize('UTC')  # Convert to UTC timezone\n",
      "C:\\Users\\hassa\\AppData\\Local\\Temp\\ipykernel_12760\\4044112271.py:3: SettingWithCopyWarning: \n",
      "A value is trying to be set on a copy of a slice from a DataFrame.\n",
      "Try using .loc[row_indexer,col_indexer] = value instead\n",
      "\n",
      "See the caveats in the documentation: https://pandas.pydata.org/pandas-docs/stable/user_guide/indexing.html#returning-a-view-versus-a-copy\n",
      "  df['updated'] = pd.to_datetime(df['updated']).dt.tz_localize(None).dt.tz_localize('UTC')  # Convert to UTC timezone\n",
      "C:\\Users\\hassa\\AppData\\Local\\Temp\\ipykernel_12760\\4044112271.py:4: SettingWithCopyWarning: \n",
      "A value is trying to be set on a copy of a slice from a DataFrame.\n",
      "Try using .loc[row_indexer,col_indexer] = value instead\n",
      "\n",
      "See the caveats in the documentation: https://pandas.pydata.org/pandas-docs/stable/user_guide/indexing.html#returning-a-view-versus-a-copy\n",
      "  df['age'] = (df['updated'] - df['created_at']).dt.days  # Use dt.days to get the number of days\n",
      "C:\\Users\\hassa\\AppData\\Local\\Temp\\ipykernel_12760\\4044112271.py:5: SettingWithCopyWarning: \n",
      "A value is trying to be set on a copy of a slice from a DataFrame.\n",
      "Try using .loc[row_indexer,col_indexer] = value instead\n",
      "\n",
      "See the caveats in the documentation: https://pandas.pydata.org/pandas-docs/stable/user_guide/indexing.html#returning-a-view-versus-a-copy\n",
      "  df['has_location'] = df['location'].notnull().astype(int)  # Convert boolean to integer\n",
      "C:\\Users\\hassa\\AppData\\Local\\Temp\\ipykernel_12760\\4044112271.py:6: SettingWithCopyWarning: \n",
      "A value is trying to be set on a copy of a slice from a DataFrame.\n",
      "Try using .loc[row_indexer,col_indexer] = value instead\n",
      "\n",
      "See the caveats in the documentation: https://pandas.pydata.org/pandas-docs/stable/user_guide/indexing.html#returning-a-view-versus-a-copy\n",
      "  df['has_avatar'] = df['default_profile_image'].notnull().astype(int)\n",
      "C:\\Users\\hassa\\AppData\\Local\\Temp\\ipykernel_12760\\4044112271.py:7: SettingWithCopyWarning: \n",
      "A value is trying to be set on a copy of a slice from a DataFrame.\n",
      "Try using .loc[row_indexer,col_indexer] = value instead\n",
      "\n",
      "See the caveats in the documentation: https://pandas.pydata.org/pandas-docs/stable/user_guide/indexing.html#returning-a-view-versus-a-copy\n",
      "  df['has_background'] = df['profile_use_background_image'].notnull().astype(int)\n",
      "C:\\Users\\hassa\\AppData\\Local\\Temp\\ipykernel_12760\\4044112271.py:8: SettingWithCopyWarning: \n",
      "A value is trying to be set on a copy of a slice from a DataFrame.\n",
      "Try using .loc[row_indexer,col_indexer] = value instead\n",
      "\n",
      "See the caveats in the documentation: https://pandas.pydata.org/pandas-docs/stable/user_guide/indexing.html#returning-a-view-versus-a-copy\n",
      "  df['is_verified'] = df['verified'].notnull().astype(int)\n",
      "C:\\Users\\hassa\\AppData\\Local\\Temp\\ipykernel_12760\\4044112271.py:9: SettingWithCopyWarning: \n",
      "A value is trying to be set on a copy of a slice from a DataFrame.\n",
      "Try using .loc[row_indexer,col_indexer] = value instead\n",
      "\n",
      "See the caveats in the documentation: https://pandas.pydata.org/pandas-docs/stable/user_guide/indexing.html#returning-a-view-versus-a-copy\n",
      "  df['is_protected'] = df['protected'].notnull().astype(int)\n",
      "C:\\Users\\hassa\\AppData\\Local\\Temp\\ipykernel_12760\\4044112271.py:10: SettingWithCopyWarning: \n",
      "A value is trying to be set on a copy of a slice from a DataFrame.\n",
      "Try using .loc[row_indexer,col_indexer] = value instead\n",
      "\n",
      "See the caveats in the documentation: https://pandas.pydata.org/pandas-docs/stable/user_guide/indexing.html#returning-a-view-versus-a-copy\n",
      "  df['profile_modified'] = df['default_profile'].notnull().astype(int)\n"
     ]
    }
   ],
   "source": [
    "df = clean_df(df)"
   ]
  },
  {
   "cell_type": "code",
   "execution_count": 65,
   "id": "821b0ddb",
   "metadata": {
    "scrolled": true
   },
   "outputs": [
    {
     "data": {
      "text/html": [
       "<div>\n",
       "<style scoped>\n",
       "    .dataframe tbody tr th:only-of-type {\n",
       "        vertical-align: middle;\n",
       "    }\n",
       "\n",
       "    .dataframe tbody tr th {\n",
       "        vertical-align: top;\n",
       "    }\n",
       "\n",
       "    .dataframe thead th {\n",
       "        text-align: right;\n",
       "    }\n",
       "</style>\n",
       "<table border=\"1\" class=\"dataframe\">\n",
       "  <thead>\n",
       "    <tr style=\"text-align: right;\">\n",
       "      <th></th>\n",
       "      <th>username</th>\n",
       "      <th>age</th>\n",
       "      <th>has_location</th>\n",
       "      <th>is_verified</th>\n",
       "      <th>total_tweets</th>\n",
       "      <th>total_following</th>\n",
       "      <th>total_followers</th>\n",
       "      <th>total_likes</th>\n",
       "      <th>has_avatar</th>\n",
       "      <th>has_background</th>\n",
       "      <th>is_protected</th>\n",
       "      <th>profile_modified</th>\n",
       "    </tr>\n",
       "  </thead>\n",
       "  <tbody>\n",
       "    <tr>\n",
       "      <th>0</th>\n",
       "      <td>MHassaanIbrahim</td>\n",
       "      <td>749</td>\n",
       "      <td>1</td>\n",
       "      <td>1</td>\n",
       "      <td>0</td>\n",
       "      <td>9</td>\n",
       "      <td>0</td>\n",
       "      <td>2</td>\n",
       "      <td>1</td>\n",
       "      <td>1</td>\n",
       "      <td>1</td>\n",
       "      <td>1</td>\n",
       "    </tr>\n",
       "  </tbody>\n",
       "</table>\n",
       "</div>"
      ],
      "text/plain": [
       "          username  age  has_location  is_verified  total_tweets  \\\n",
       "0  MHassaanIbrahim  749             1            1             0   \n",
       "\n",
       "   total_following  total_followers  total_likes  has_avatar  has_background  \\\n",
       "0                9                0            2           1               1   \n",
       "\n",
       "   is_protected  profile_modified  \n",
       "0             1                 1  "
      ]
     },
     "execution_count": 65,
     "metadata": {},
     "output_type": "execute_result"
    }
   ],
   "source": [
    "df"
   ]
  },
  {
   "cell_type": "code",
   "execution_count": null,
   "id": "3a25f713",
   "metadata": {},
   "outputs": [],
   "source": []
  }
 ],
 "metadata": {
  "kernelspec": {
   "display_name": "Python 3 (ipykernel)",
   "language": "python",
   "name": "python3"
  },
  "language_info": {
   "codemirror_mode": {
    "name": "ipython",
    "version": 3
   },
   "file_extension": ".py",
   "mimetype": "text/x-python",
   "name": "python",
   "nbconvert_exporter": "python",
   "pygments_lexer": "ipython3",
   "version": "3.9.16"
  }
 },
 "nbformat": 4,
 "nbformat_minor": 5
}
